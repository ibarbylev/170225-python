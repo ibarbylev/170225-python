{
 "cells": [
  {
   "cell_type": "code",
   "execution_count": null,
   "id": "af5a814b",
   "metadata": {},
   "outputs": [],
   "source": [
    "set1 = {1, 2, 3}\n",
    "set2 = {2}\n",
    "issuperset = set1.issuperset(set2)\n",
    "issubset = set2.issubset(set1)\n",
    "print(issuperset)\n",
    "print(issubset)"
   ]
  },
  {
   "cell_type": "code",
   "execution_count": null,
   "id": "5bcc456c",
   "metadata": {},
   "outputs": [],
   "source": [
    "print(set1.issuperset(set1) == (set1 >= set2))    # True\n",
    "print(set2.issubset(set1) == (set2 <= set1))    # True"
   ]
  },
  {
   "cell_type": "code",
   "execution_count": null,
   "id": "aea3b886",
   "metadata": {},
   "outputs": [],
   "source": [
    "print(set1 == set2)   # False\n",
    "print(set1 != set2)   # True\n",
    "print()"
   ]
  },
  {
   "cell_type": "code",
   "execution_count": null,
   "id": "60976e3d",
   "metadata": {},
   "outputs": [],
   "source": [
    "# =============== set equality ===============\n",
    "print({1, 2, 3} == {3, 1, 2})\n",
    "print()"
   ]
  },
  {
   "cell_type": "code",
   "execution_count": null,
   "id": "4f635b14",
   "metadata": {},
   "outputs": [],
   "source": [
    "# =============== list equality ===============\n",
    "print([1, 2, 3] == [3, 1, 2])\n",
    "print([1, 2, 3] == [1, 2, 3])"
   ]
  }
 ],
 "metadata": {
  "jupytext": {
   "cell_metadata_filter": "-all",
   "main_language": "python",
   "notebook_metadata_filter": "-all"
  }
 },
 "nbformat": 4,
 "nbformat_minor": 5
}
