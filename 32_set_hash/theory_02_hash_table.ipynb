{
 "cells": [
  {
   "cell_type": "code",
   "execution_count": null,
   "id": "0541cf0d",
   "metadata": {},
   "outputs": [],
   "source": [
    "\"\"\"Дан список овощей и фруктов\n",
    "items = [\"Apple\", \"Banana\", \"Cherry\", \"Date\", \"Fig\", \"Grape\", \"Kiwi\", \"Lemon\"]\n",
    "Необходимо поместить его в хэш таблицу, имитирующую объект set\n",
    "\"\"\""
   ]
  },
  {
   "cell_type": "code",
   "execution_count": null,
   "id": "40f16cd4",
   "metadata": {},
   "outputs": [],
   "source": [
    "def _hash(value: str) -> int:\n",
    "    \"\"\"Функция для вычисления индекса с помощью hash()\"\"\"\n",
    "    return hash(value) % hash_table_size"
   ]
  },
  {
   "cell_type": "code",
   "execution_count": null,
   "id": "ffdda36c",
   "metadata": {},
   "outputs": [],
   "source": [
    "def add_item(value):\n",
    "    idx = _hash(value)\n",
    "\n",
    "    if hash_table[idx] is None:\n",
    "        hash_table[idx] = [value]\n",
    "    else:\n",
    "        if value not in hash_table[idx]:\n",
    "            hash_table[idx].append(value)"
   ]
  },
  {
   "cell_type": "code",
   "execution_count": null,
   "id": "a3dc35ea",
   "metadata": {},
   "outputs": [],
   "source": [
    "def is_item_in_set(value):\n",
    "    idx = _hash(value)\n",
    "\n",
    "    if hash_table[idx] is None:\n",
    "        return False\n",
    "    else:\n",
    "        return value in hash_table[idx]"
   ]
  },
  {
   "cell_type": "code",
   "execution_count": null,
   "id": "ee6fd460",
   "metadata": {},
   "outputs": [],
   "source": [
    "def print_table(lst):\n",
    "    print(\"Index | Items\")\n",
    "    print(\"------+----------------------\")\n",
    "    for i, value in enumerate(lst):\n",
    "        print(f\"{i:<5} | {value}\")\n",
    "    print(\"------+----------------------\")\n",
    "    print()"
   ]
  },
  {
   "cell_type": "code",
   "execution_count": null,
   "id": "afd22042",
   "metadata": {},
   "outputs": [],
   "source": [
    "items = [\"Apple\", \"Banana\", \"Cherry\", \"Date\", \"Fig\", \"Grape\", \"Kiwi\", \"Lemon\"]"
   ]
  },
  {
   "cell_type": "code",
   "execution_count": null,
   "id": "ee035912",
   "metadata": {},
   "outputs": [],
   "source": [
    "# Определяем размер и создаём по нему хэш таблицу\n",
    "hash_table_size = len(items)\n",
    "hash_table = [None] * hash_table_size\n",
    "# [None, None, None, None, None, None, None, None]\n",
    "print_table(hash_table)"
   ]
  },
  {
   "cell_type": "code",
   "execution_count": null,
   "id": "29b9769b",
   "metadata": {},
   "outputs": [],
   "source": [
    "for item in items:\n",
    "    add_item(item)"
   ]
  },
  {
   "cell_type": "code",
   "execution_count": null,
   "id": "fd5a0d28",
   "metadata": {},
   "outputs": [],
   "source": [
    "print_table(hash_table)"
   ]
  }
 ],
 "metadata": {
  "jupytext": {
   "cell_metadata_filter": "-all",
   "main_language": "python",
   "notebook_metadata_filter": "-all"
  }
 },
 "nbformat": 4,
 "nbformat_minor": 5
}
