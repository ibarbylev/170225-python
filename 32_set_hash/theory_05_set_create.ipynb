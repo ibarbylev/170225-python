{
 "cells": [
  {
   "cell_type": "code",
   "execution_count": null,
   "id": "ad9d916e",
   "metadata": {
    "lines_to_next_cell": 2
   },
   "outputs": [],
   "source": [
    "\"\"\"Методы (и способы) создания множества\"\"\""
   ]
  },
  {
   "cell_type": "code",
   "execution_count": null,
   "id": "6ba0d59d",
   "metadata": {
    "lines_to_next_cell": 2
   },
   "outputs": [],
   "source": [
    "print(\"\"\" 1. =============== curly braces {} =============== \"\"\")\n",
    "set1 = {1, 2, 'a'}\n",
    "print(type(set1))  # <class 'set'>\n",
    "print(set1)        # {1, 2, 'a'}"
   ]
  },
  {
   "cell_type": "code",
   "execution_count": null,
   "id": "b1e92501",
   "metadata": {
    "lines_to_next_cell": 2
   },
   "outputs": [],
   "source": [
    "print(\"\"\" Внимание!!! Пустые скобки создают тип данных dict, а не set!!! \"\"\")\n",
    "set2 = {}\n",
    "print(type(set2))  # <class 'dict'>\n",
    "print(set2)        # {}"
   ]
  },
  {
   "cell_type": "code",
   "execution_count": null,
   "id": "120b8313",
   "metadata": {},
   "outputs": [],
   "source": [
    "print(\"\"\" 2. =============== function set() ===============\n",
    "IMPORTANT: \n",
    "    a.) Must have iterable object!!!\n",
    "    b.) And every item must be hashable!!!!!\n",
    "\"\"\")"
   ]
  },
  {
   "cell_type": "code",
   "execution_count": null,
   "id": "dc660546",
   "metadata": {},
   "outputs": [],
   "source": [
    "try:\n",
    "    set(1)\n",
    "except Exception as e:\n",
    "    print(f\"{e.__class__.__name__}: {e}\")"
   ]
  },
  {
   "cell_type": "code",
   "execution_count": null,
   "id": "dd2a0e54",
   "metadata": {
    "lines_to_next_cell": 2
   },
   "outputs": [],
   "source": [
    "try:\n",
    "    set([[1], [2]])\n",
    "except Exception as e:\n",
    "    print(f\"{e.__class__.__name__}: {e}\")"
   ]
  },
  {
   "cell_type": "code",
   "execution_count": null,
   "id": "2179310e",
   "metadata": {},
   "outputs": [],
   "source": [
    "print(set())       # set()\n",
    "print(set(\"\"))     # set()\n",
    "print(set(\"a\"))    # {'a'}\n",
    "print(set([]))     # set()\n",
    "print(set(['']))   # {''}\n",
    "print(set(['a']))  # {'a'}\n",
    "print(set(['abc']))  # {'abc'}\n",
    "print(set(\"abc\"))  # {'a', 'b', 'c'}\n",
    "print()"
   ]
  }
 ],
 "metadata": {
  "jupytext": {
   "cell_metadata_filter": "-all",
   "main_language": "python",
   "notebook_metadata_filter": "-all"
  }
 },
 "nbformat": 4,
 "nbformat_minor": 5
}
