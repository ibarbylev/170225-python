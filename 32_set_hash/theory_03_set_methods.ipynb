{
 "cells": [
  {
   "cell_type": "code",
   "execution_count": null,
   "id": "ddcdb224",
   "metadata": {},
   "outputs": [],
   "source": [
    "set1 = {1, 2, 3}\n",
    "set2 = {2, 3, 4}\n",
    "intersection = set1.intersection(set2)\n",
    "union = set1.union(set2)\n",
    "difference1_2 = set1.difference(set2)\n",
    "difference2_1 = set2.difference(set1)\n",
    "symmetric_difference = set1.symmetric_difference(set2)\n",
    "print(intersection)  # Выводит {2, 3}\n",
    "print(union)  # Выводит {1, 2, 3, 4}\n",
    "print(difference1_2)  # Выводит {1}\n",
    "print(difference2_1)  # Выводит {4}\n",
    "print(symmetric_difference)  # Выводит {1, 4}"
   ]
  },
  {
   "cell_type": "code",
   "execution_count": null,
   "id": "23f0e185",
   "metadata": {},
   "outputs": [],
   "source": [
    "print(set1.intersection(set2) == set1 & set2)  # True\n",
    "print(set1.union(set2) == set1 | set2)    # True\n",
    "print(set1.difference(set2) == set1 - set2)    # True\n",
    "print(set2.difference(set1) == set2 - set1)    # True\n",
    "print(set1.symmetric_difference(set2) == set1 ^ set2)    # True"
   ]
  }
 ],
 "metadata": {
  "jupytext": {
   "cell_metadata_filter": "-all",
   "main_language": "python",
   "notebook_metadata_filter": "-all"
  }
 },
 "nbformat": 4,
 "nbformat_minor": 5
}
