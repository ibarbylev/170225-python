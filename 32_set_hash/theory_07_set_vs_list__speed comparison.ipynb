{
 "cells": [
  {
   "cell_type": "code",
   "execution_count": null,
   "id": "99a045d0",
   "metadata": {},
   "outputs": [],
   "source": [
    "\"\"\"Сравнение скорости поиска элементов в list и set\"\"\""
   ]
  },
  {
   "cell_type": "code",
   "execution_count": null,
   "id": "9b6a6e5d",
   "metadata": {},
   "outputs": [],
   "source": [
    "from time import time"
   ]
  },
  {
   "cell_type": "code",
   "execution_count": null,
   "id": "153338a7",
   "metadata": {},
   "outputs": [],
   "source": [
    "def timer(func):\n",
    "    def wrapper(*args, **kwargs):\n",
    "        start = time()\n",
    "        print(f\"{50 * '='}\\nStart func {func.__name__} ...\")\n",
    "        func(*args, **kwargs)\n",
    "        end = time()\n",
    "        print(f\"Func {func.__name__} execution time: {end - start:.2f}\")\n",
    "    return wrapper"
   ]
  },
  {
   "cell_type": "code",
   "execution_count": null,
   "id": "5e408076",
   "metadata": {},
   "outputs": [],
   "source": [
    "@timer\n",
    "def find_item_in_list(value, lst, num):\n",
    "    for _ in range(num):\n",
    "        if value in lst:\n",
    "            pass"
   ]
  },
  {
   "cell_type": "code",
   "execution_count": null,
   "id": "a05f15cc",
   "metadata": {},
   "outputs": [],
   "source": [
    "@timer\n",
    "def find_item_in_set(value, sset, num):\n",
    "    for _ in range(num):\n",
    "        if value in sset:\n",
    "            pass"
   ]
  },
  {
   "cell_type": "code",
   "execution_count": null,
   "id": "628d8c31",
   "metadata": {},
   "outputs": [],
   "source": [
    "value = -1\n",
    "num = 20000\n",
    "lst = ['a' * n for n in range(num)]    # ['a', 'aa', 'aaa', ...]\n",
    "sset = set(lst)"
   ]
  },
  {
   "cell_type": "code",
   "execution_count": null,
   "id": "16eda761",
   "metadata": {},
   "outputs": [],
   "source": [
    "find_item_in_list(value, lst, num)\n",
    "find_item_in_set(value, sset, num)"
   ]
  }
 ],
 "metadata": {
  "jupytext": {
   "cell_metadata_filter": "-all",
   "main_language": "python",
   "notebook_metadata_filter": "-all"
  }
 },
 "nbformat": 4,
 "nbformat_minor": 5
}
