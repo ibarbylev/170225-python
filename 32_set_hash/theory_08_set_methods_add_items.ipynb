{
 "cells": [
  {
   "cell_type": "code",
   "execution_count": null,
   "id": "8f43b807",
   "metadata": {
    "lines_to_next_cell": 2
   },
   "outputs": [],
   "source": [
    "\"\"\"Методы множества\"\"\""
   ]
  },
  {
   "cell_type": "code",
   "execution_count": null,
   "id": "99b09262",
   "metadata": {},
   "outputs": [],
   "source": [
    "my_set = {1, 2, 3}"
   ]
  },
  {
   "cell_type": "code",
   "execution_count": null,
   "id": "6f7b325b",
   "metadata": {
    "lines_to_next_cell": 2
   },
   "outputs": [],
   "source": [
    "\"\"\" 1. ====================== add(value) ====================== \"\"\"\n",
    "print(my_set.add(4))    # None\n",
    "print(my_set)           # {1, 2, 3, 4}"
   ]
  },
  {
   "cell_type": "code",
   "execution_count": null,
   "id": "96ef42a7",
   "metadata": {},
   "outputs": [],
   "source": [
    "\"\"\" 2. ====================== update(iterable) ====================== \"\"\"\n",
    "print(my_set.update([5, 6, 7]))   # None\n",
    "print(my_set)                     # {1, 2, 3, 4, 5, 6, 7}"
   ]
  },
  {
   "cell_type": "code",
   "execution_count": null,
   "id": "8fa50e1b",
   "metadata": {
    "lines_to_next_cell": 2
   },
   "outputs": [],
   "source": [
    "print(my_set.update(\"abc\"))      # None\n",
    "print(my_set)                    # {1, 2, 3, 4, 5, 6, 7, 'a', 'b', 'c'}"
   ]
  },
  {
   "cell_type": "code",
   "execution_count": null,
   "id": "d4b3ca99",
   "metadata": {
    "lines_to_next_cell": 2
   },
   "outputs": [],
   "source": [
    "\"\"\" 3. ========= concatenation by | ======== \"\"\"\n",
    "set1 = {1, 2, 3}\n",
    "set2 = {3, 4, 5}\n",
    "print(set1 | set2)   # {1, 2, 3, 4, 5}"
   ]
  },
  {
   "cell_type": "code",
   "execution_count": null,
   "id": "e4f629ac",
   "metadata": {},
   "outputs": [],
   "source": [
    "\"\"\" 4. ========= concatenation by .union() ======== \"\"\"\n",
    "set1 = {1, 2, 3}\n",
    "set2 = {3, 4, 5}\n",
    "print(set1.union(set2))    # {1, 2, 3, 4, 5}"
   ]
  },
  {
   "cell_type": "code",
   "execution_count": null,
   "id": "bf0d452d",
   "metadata": {
    "lines_to_next_cell": 2
   },
   "outputs": [],
   "source": []
  }
 ],
 "metadata": {
  "jupytext": {
   "cell_metadata_filter": "-all",
   "main_language": "python",
   "notebook_metadata_filter": "-all"
  }
 },
 "nbformat": 4,
 "nbformat_minor": 5
}
