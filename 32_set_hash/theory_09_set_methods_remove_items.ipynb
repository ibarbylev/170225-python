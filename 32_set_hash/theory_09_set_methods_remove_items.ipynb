{
 "cells": [
  {
   "cell_type": "code",
   "execution_count": null,
   "id": "7d065036",
   "metadata": {
    "lines_to_next_cell": 2
   },
   "outputs": [],
   "source": [
    "\"\"\"Методы множества\"\"\""
   ]
  },
  {
   "cell_type": "code",
   "execution_count": null,
   "id": "13c76929",
   "metadata": {},
   "outputs": [],
   "source": [
    "my_set = {1, 2, 3, 4, 5}"
   ]
  },
  {
   "cell_type": "code",
   "execution_count": null,
   "id": "f6d1606c",
   "metadata": {},
   "outputs": [],
   "source": [
    "print(\"\"\" 1. ====================== remove(value) ====================== \"\"\")\n",
    "print(my_set.remove(5))    # None\n",
    "print(my_set)              # {1, 2, 3, 4}"
   ]
  },
  {
   "cell_type": "code",
   "execution_count": null,
   "id": "009869d6",
   "metadata": {
    "lines_to_next_cell": 2
   },
   "outputs": [],
   "source": [
    "try:\n",
    "    my_set.remove(5)\n",
    "except Exception as e:\n",
    "    print(f\"{e.__class__.__name__}: {e}\")  # KeyError: 5"
   ]
  },
  {
   "cell_type": "code",
   "execution_count": null,
   "id": "8bcdbe2e",
   "metadata": {},
   "outputs": [],
   "source": [
    "print(\"\"\" 2. ====================== discard(value) ====================== \"\"\")\n",
    "print(my_set)               # {1, 2, 3, 4}\n",
    "print(my_set.discard(4))    # None\n",
    "print(my_set)               # {1, 2, 3}"
   ]
  },
  {
   "cell_type": "code",
   "execution_count": null,
   "id": "5c3138f0",
   "metadata": {
    "lines_to_next_cell": 2
   },
   "outputs": [],
   "source": [
    "print(my_set.discard(100))  # None\n",
    "print(my_set)               # {1, 2, 3}"
   ]
  },
  {
   "cell_type": "code",
   "execution_count": null,
   "id": "2f17a581",
   "metadata": {},
   "outputs": [],
   "source": [
    "print(\"\"\" 3. ====================== pop() ====================== \n",
    "(удаление случайного элемента)\n",
    "\"\"\")\n",
    "print(my_set.pop())         # 1\n",
    "print(my_set)               # {2, 3}"
   ]
  },
  {
   "cell_type": "code",
   "execution_count": null,
   "id": "c7feadbb",
   "metadata": {
    "lines_to_next_cell": 2
   },
   "outputs": [],
   "source": [
    "try:\n",
    "    my_set.pop(5)\n",
    "except Exception as e:\n",
    "    print(f\"{e.__class__.__name__}: {e}\")  # TypeError: set.pop() takes no arguments (1 given)"
   ]
  },
  {
   "cell_type": "code",
   "execution_count": null,
   "id": "3fc48f36",
   "metadata": {
    "lines_to_next_cell": 2
   },
   "outputs": [],
   "source": [
    "print(\"\"\" 4. ====================== clear() ====================== \"\"\")\n",
    "print(my_set)               # {2, 3}\n",
    "print(my_set.clear())       # None\n",
    "print(my_set)               # set()"
   ]
  }
 ],
 "metadata": {
  "jupytext": {
   "cell_metadata_filter": "-all",
   "main_language": "python",
   "notebook_metadata_filter": "-all"
  }
 },
 "nbformat": 4,
 "nbformat_minor": 5
}
