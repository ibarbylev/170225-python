{
 "cells": [
  {
   "cell_type": "code",
   "execution_count": null,
   "id": "24795fa2",
   "metadata": {
    "lines_to_next_cell": 2
   },
   "outputs": [],
   "source": [
    "\"\"\"Методы добавления элементов множества\"\"\""
   ]
  },
  {
   "cell_type": "code",
   "execution_count": null,
   "id": "b8d632c6",
   "metadata": {},
   "outputs": [],
   "source": [
    "my_set = {1, 2, 3}"
   ]
  },
  {
   "cell_type": "code",
   "execution_count": null,
   "id": "75377fe4",
   "metadata": {
    "lines_to_next_cell": 2
   },
   "outputs": [],
   "source": [
    "\"\"\" 1. ===== size (размер) or cardinality (мощность) of a set - len() ===== \"\"\"\n",
    "print(len(my_set))  # Выводит размер множества"
   ]
  },
  {
   "cell_type": "code",
   "execution_count": null,
   "id": "6fffe966",
   "metadata": {},
   "outputs": [],
   "source": [
    "\"\"\" 2. ====================== in - поиск элемента  ====================== \"\"\"\n",
    "print(2 in my_set)  # Выводит True, так как элемент 2 содержится во множестве"
   ]
  }
 ],
 "metadata": {
  "jupytext": {
   "cell_metadata_filter": "-all",
   "main_language": "python",
   "notebook_metadata_filter": "-all"
  }
 },
 "nbformat": 4,
 "nbformat_minor": 5
}
